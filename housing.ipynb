{
 "cells": [
  {
   "cell_type": "code",
   "execution_count": 1,
   "id": "131e4f91",
   "metadata": {
    "_cell_guid": "b1076dfc-b9ad-4769-8c92-a6c4dae69d19",
    "_uuid": "8f2839f25d086af736a60e9eeb907d3b93b6e0e5",
    "execution": {
     "iopub.execute_input": "2025-01-16T18:41:43.895776Z",
     "iopub.status.busy": "2025-01-16T18:41:43.895342Z",
     "iopub.status.idle": "2025-01-16T18:41:44.861582Z",
     "shell.execute_reply": "2025-01-16T18:41:44.860363Z"
    },
    "papermill": {
     "duration": 0.974771,
     "end_time": "2025-01-16T18:41:44.863870",
     "exception": false,
     "start_time": "2025-01-16T18:41:43.889099",
     "status": "completed"
    },
    "tags": []
   },
   "outputs": [
    {
     "name": "stdout",
     "output_type": "stream",
     "text": [
      "/kaggle/input/home-data-for-ml-course/sample_submission.csv\n",
      "/kaggle/input/home-data-for-ml-course/sample_submission.csv.gz\n",
      "/kaggle/input/home-data-for-ml-course/train.csv.gz\n",
      "/kaggle/input/home-data-for-ml-course/data_description.txt\n",
      "/kaggle/input/home-data-for-ml-course/test.csv.gz\n",
      "/kaggle/input/home-data-for-ml-course/train.csv\n",
      "/kaggle/input/home-data-for-ml-course/test.csv\n"
     ]
    }
   ],
   "source": [
    "# This Python 3 environment comes with many helpful analytics libraries installed\n",
    "# It is defined by the kaggle/python Docker image: https://github.com/kaggle/docker-python\n",
    "# For example, here's several helpful packages to load\n",
    "\n",
    "import numpy as np # linear algebra\n",
    "import pandas as pd # data processing, CSV file I/O (e.g. pd.read_csv)\n",
    "\n",
    "# Input data files are available in the read-only \"../input/\" directory\n",
    "# For example, running this (by clicking run or pressing Shift+Enter) will list all files under the input directory\n",
    "\n",
    "import os\n",
    "for dirname, _, filenames in os.walk('/kaggle/input'):\n",
    "    for filename in filenames:\n",
    "        print(os.path.join(dirname, filename))\n",
    "\n",
    "# You can write up to 20GB to the current directory (/kaggle/working/) that gets preserved as output when you create a version using \"Save & Run All\" \n",
    "# You can also write temporary files to /kaggle/temp/, but they won't be saved outside of the current session"
   ]
  },
  {
   "cell_type": "code",
   "execution_count": 2,
   "id": "6f5e5437",
   "metadata": {
    "execution": {
     "iopub.execute_input": "2025-01-16T18:41:44.873355Z",
     "iopub.status.busy": "2025-01-16T18:41:44.872678Z",
     "iopub.status.idle": "2025-01-16T18:41:47.451395Z",
     "shell.execute_reply": "2025-01-16T18:41:47.450101Z"
    },
    "papermill": {
     "duration": 2.585319,
     "end_time": "2025-01-16T18:41:47.453470",
     "exception": false,
     "start_time": "2025-01-16T18:41:44.868151",
     "status": "completed"
    },
    "tags": []
   },
   "outputs": [
    {
     "data": {
      "text/html": [
       "<div>\n",
       "<style scoped>\n",
       "    .dataframe tbody tr th:only-of-type {\n",
       "        vertical-align: middle;\n",
       "    }\n",
       "\n",
       "    .dataframe tbody tr th {\n",
       "        vertical-align: top;\n",
       "    }\n",
       "\n",
       "    .dataframe thead th {\n",
       "        text-align: right;\n",
       "    }\n",
       "</style>\n",
       "<table border=\"1\" class=\"dataframe\">\n",
       "  <thead>\n",
       "    <tr style=\"text-align: right;\">\n",
       "      <th></th>\n",
       "      <th>LotArea</th>\n",
       "      <th>YearBuilt</th>\n",
       "      <th>1stFlrSF</th>\n",
       "      <th>2ndFlrSF</th>\n",
       "      <th>FullBath</th>\n",
       "      <th>BedroomAbvGr</th>\n",
       "      <th>TotRmsAbvGrd</th>\n",
       "      <th>MSSubClass</th>\n",
       "      <th>OverallQual</th>\n",
       "      <th>OverallCond</th>\n",
       "      <th>...</th>\n",
       "      <th>GrLivArea</th>\n",
       "      <th>HalfBath</th>\n",
       "      <th>KitchenAbvGr</th>\n",
       "      <th>Fireplaces</th>\n",
       "      <th>WoodDeckSF</th>\n",
       "      <th>OpenPorchSF</th>\n",
       "      <th>EnclosedPorch</th>\n",
       "      <th>3SsnPorch</th>\n",
       "      <th>ScreenPorch</th>\n",
       "      <th>PoolArea</th>\n",
       "    </tr>\n",
       "  </thead>\n",
       "  <tbody>\n",
       "    <tr>\n",
       "      <th>0</th>\n",
       "      <td>8450</td>\n",
       "      <td>2003</td>\n",
       "      <td>856</td>\n",
       "      <td>854</td>\n",
       "      <td>2</td>\n",
       "      <td>3</td>\n",
       "      <td>8</td>\n",
       "      <td>60</td>\n",
       "      <td>7</td>\n",
       "      <td>5</td>\n",
       "      <td>...</td>\n",
       "      <td>1710</td>\n",
       "      <td>1</td>\n",
       "      <td>1</td>\n",
       "      <td>0</td>\n",
       "      <td>0</td>\n",
       "      <td>61</td>\n",
       "      <td>0</td>\n",
       "      <td>0</td>\n",
       "      <td>0</td>\n",
       "      <td>0</td>\n",
       "    </tr>\n",
       "    <tr>\n",
       "      <th>1</th>\n",
       "      <td>9600</td>\n",
       "      <td>1976</td>\n",
       "      <td>1262</td>\n",
       "      <td>0</td>\n",
       "      <td>2</td>\n",
       "      <td>3</td>\n",
       "      <td>6</td>\n",
       "      <td>20</td>\n",
       "      <td>6</td>\n",
       "      <td>8</td>\n",
       "      <td>...</td>\n",
       "      <td>1262</td>\n",
       "      <td>0</td>\n",
       "      <td>1</td>\n",
       "      <td>1</td>\n",
       "      <td>298</td>\n",
       "      <td>0</td>\n",
       "      <td>0</td>\n",
       "      <td>0</td>\n",
       "      <td>0</td>\n",
       "      <td>0</td>\n",
       "    </tr>\n",
       "    <tr>\n",
       "      <th>2</th>\n",
       "      <td>11250</td>\n",
       "      <td>2001</td>\n",
       "      <td>920</td>\n",
       "      <td>866</td>\n",
       "      <td>2</td>\n",
       "      <td>3</td>\n",
       "      <td>6</td>\n",
       "      <td>60</td>\n",
       "      <td>7</td>\n",
       "      <td>5</td>\n",
       "      <td>...</td>\n",
       "      <td>1786</td>\n",
       "      <td>1</td>\n",
       "      <td>1</td>\n",
       "      <td>1</td>\n",
       "      <td>0</td>\n",
       "      <td>42</td>\n",
       "      <td>0</td>\n",
       "      <td>0</td>\n",
       "      <td>0</td>\n",
       "      <td>0</td>\n",
       "    </tr>\n",
       "    <tr>\n",
       "      <th>3</th>\n",
       "      <td>9550</td>\n",
       "      <td>1915</td>\n",
       "      <td>961</td>\n",
       "      <td>756</td>\n",
       "      <td>1</td>\n",
       "      <td>3</td>\n",
       "      <td>7</td>\n",
       "      <td>70</td>\n",
       "      <td>7</td>\n",
       "      <td>5</td>\n",
       "      <td>...</td>\n",
       "      <td>1717</td>\n",
       "      <td>0</td>\n",
       "      <td>1</td>\n",
       "      <td>1</td>\n",
       "      <td>0</td>\n",
       "      <td>35</td>\n",
       "      <td>272</td>\n",
       "      <td>0</td>\n",
       "      <td>0</td>\n",
       "      <td>0</td>\n",
       "    </tr>\n",
       "    <tr>\n",
       "      <th>4</th>\n",
       "      <td>14260</td>\n",
       "      <td>2000</td>\n",
       "      <td>1145</td>\n",
       "      <td>1053</td>\n",
       "      <td>2</td>\n",
       "      <td>4</td>\n",
       "      <td>9</td>\n",
       "      <td>60</td>\n",
       "      <td>8</td>\n",
       "      <td>5</td>\n",
       "      <td>...</td>\n",
       "      <td>2198</td>\n",
       "      <td>1</td>\n",
       "      <td>1</td>\n",
       "      <td>1</td>\n",
       "      <td>192</td>\n",
       "      <td>84</td>\n",
       "      <td>0</td>\n",
       "      <td>0</td>\n",
       "      <td>0</td>\n",
       "      <td>0</td>\n",
       "    </tr>\n",
       "  </tbody>\n",
       "</table>\n",
       "<p>5 rows × 21 columns</p>\n",
       "</div>"
      ],
      "text/plain": [
       "   LotArea  YearBuilt  1stFlrSF  2ndFlrSF  FullBath  BedroomAbvGr  \\\n",
       "0     8450       2003       856       854         2             3   \n",
       "1     9600       1976      1262         0         2             3   \n",
       "2    11250       2001       920       866         2             3   \n",
       "3     9550       1915       961       756         1             3   \n",
       "4    14260       2000      1145      1053         2             4   \n",
       "\n",
       "   TotRmsAbvGrd  MSSubClass  OverallQual  OverallCond  ...  GrLivArea  \\\n",
       "0             8          60            7            5  ...       1710   \n",
       "1             6          20            6            8  ...       1262   \n",
       "2             6          60            7            5  ...       1786   \n",
       "3             7          70            7            5  ...       1717   \n",
       "4             9          60            8            5  ...       2198   \n",
       "\n",
       "   HalfBath  KitchenAbvGr  Fireplaces  WoodDeckSF  OpenPorchSF  EnclosedPorch  \\\n",
       "0         1             1           0           0           61              0   \n",
       "1         0             1           1         298            0              0   \n",
       "2         1             1           1           0           42              0   \n",
       "3         0             1           1           0           35            272   \n",
       "4         1             1           1         192           84              0   \n",
       "\n",
       "   3SsnPorch  ScreenPorch  PoolArea  \n",
       "0          0            0         0  \n",
       "1          0            0         0  \n",
       "2          0            0         0  \n",
       "3          0            0         0  \n",
       "4          0            0         0  \n",
       "\n",
       "[5 rows x 21 columns]"
      ]
     },
     "execution_count": 2,
     "metadata": {},
     "output_type": "execute_result"
    }
   ],
   "source": [
    "# Import helpful libraries\n",
    "import pandas as pd\n",
    "import xgboost\n",
    "from sklearn.ensemble import RandomForestRegressor\n",
    "import xgboost as xgb\n",
    "from xgboost import XGBRegressor   # For regression task\n",
    "from sklearn.metrics import mean_absolute_error\n",
    "from sklearn.model_selection import train_test_split\n",
    "from sklearn.inspection import permutation_importance\n",
    "\n",
    "# Load the data, and separate the target\n",
    "iowa_file_path = '/kaggle/input/home-data-for-ml-course/train.csv'\n",
    "home_data = pd.read_csv(iowa_file_path)\n",
    "y = home_data.SalePrice\n",
    "\n",
    "features = ['LotArea', 'YearBuilt', '1stFlrSF', '2ndFlrSF', 'FullBath', 'BedroomAbvGr', 'TotRmsAbvGrd', \n",
    "    'MSSubClass',\n",
    "    'OverallQual',\n",
    "    'OverallCond',\n",
    "    'YearRemodAdd',\n",
    "    'GrLivArea',\n",
    "    'HalfBath',\n",
    "    'KitchenAbvGr',\n",
    "    'Fireplaces',\n",
    "    'WoodDeckSF',\n",
    "    'OpenPorchSF',\n",
    "    'EnclosedPorch',\n",
    "    '3SsnPorch',\n",
    "    'ScreenPorch',\n",
    "    'PoolArea']\n",
    "            \n",
    "            \n",
    "# Select columns corresponding to features, and preview the data\n",
    "X = home_data[features]\n",
    "X.head(5)\n"
   ]
  },
  {
   "cell_type": "code",
   "execution_count": 3,
   "id": "d97d1c71",
   "metadata": {
    "execution": {
     "iopub.execute_input": "2025-01-16T18:41:47.462229Z",
     "iopub.status.busy": "2025-01-16T18:41:47.461697Z",
     "iopub.status.idle": "2025-01-16T18:41:49.110489Z",
     "shell.execute_reply": "2025-01-16T18:41:49.107873Z"
    },
    "papermill": {
     "duration": 1.655771,
     "end_time": "2025-01-16T18:41:49.112937",
     "exception": false,
     "start_time": "2025-01-16T18:41:47.457166",
     "status": "completed"
    },
    "tags": []
   },
   "outputs": [
    {
     "name": "stdout",
     "output_type": "stream",
     "text": [
      "OverallQual      5.841031e-01\n",
      "GrLivArea        4.325460e-01\n",
      "YearBuilt        4.099677e-01\n",
      "LotArea          3.945098e-01\n",
      "MSSubClass       2.870274e-01\n",
      "1stFlrSF         2.843996e-01\n",
      "YearRemodAdd     2.795163e-01\n",
      "FullBath         2.581312e-01\n",
      "TotRmsAbvGrd     2.116646e-01\n",
      "OpenPorchSF      1.917840e-01\n",
      "2ndFlrSF         1.722717e-01\n",
      "Fireplaces       1.647983e-01\n",
      "OverallCond      1.105338e-01\n",
      "WoodDeckSF       1.041976e-01\n",
      "HalfBath         8.304112e-02\n",
      "BedroomAbvGr     7.852907e-02\n",
      "EnclosedPorch    2.405439e-02\n",
      "KitchenAbvGr     2.220382e-02\n",
      "ScreenPorch      1.849359e-02\n",
      "3SsnPorch        2.297872e-03\n",
      "PoolArea         2.220446e-16\n",
      "Name: MI Scores, dtype: float64\n"
     ]
    }
   ],
   "source": [
    "from sklearn.feature_selection import mutual_info_regression\n",
    "\n",
    "# Create a boolean mask for discrete features (int columns)\n",
    "discrete_features = X.dtypes == int\n",
    "\n",
    "# Function to calculate mutual information scores\n",
    "def make_mi_scores(X, y, discrete_features):\n",
    "    mi_scores = mutual_info_regression(X, y, discrete_features=discrete_features)\n",
    "    mi_scores = pd.Series(mi_scores, name=\"MI Scores\", index=X.columns)\n",
    "    mi_scores = mi_scores.sort_values(ascending=False)\n",
    "    return mi_scores\n",
    "\n",
    "# Calculate MI scores and display a few features with their MI scores\n",
    "mi_scores = make_mi_scores(X, y, discrete_features)\n",
    "print(mi_scores)  # Show a few features with their MI scores\n"
   ]
  },
  {
   "cell_type": "code",
   "execution_count": 4,
   "id": "2965fb87",
   "metadata": {
    "execution": {
     "iopub.execute_input": "2025-01-16T18:41:49.121180Z",
     "iopub.status.busy": "2025-01-16T18:41:49.120778Z",
     "iopub.status.idle": "2025-01-16T18:41:55.169508Z",
     "shell.execute_reply": "2025-01-16T18:41:55.167548Z"
    },
    "papermill": {
     "duration": 6.055131,
     "end_time": "2025-01-16T18:41:55.171598",
     "exception": false,
     "start_time": "2025-01-16T18:41:49.116467",
     "status": "completed"
    },
    "tags": []
   },
   "outputs": [
    {
     "name": "stdout",
     "output_type": "stream",
     "text": [
      "          Feature  Importance       Std\n",
      "8     OverallQual    0.559187  0.022659\n",
      "11      GrLivArea    0.171083  0.005201\n",
      "2        1stFlrSF    0.106920  0.004271\n",
      "1       YearBuilt    0.045512  0.001078\n",
      "0         LotArea    0.040595  0.001753\n",
      "3        2ndFlrSF    0.028223  0.000429\n",
      "10   YearRemodAdd    0.022896  0.000845\n",
      "9     OverallCond    0.012391  0.000951\n",
      "6    TotRmsAbvGrd    0.010138  0.000967\n",
      "16    OpenPorchSF    0.009852  0.000340\n",
      "15     WoodDeckSF    0.007229  0.000676\n",
      "14     Fireplaces    0.007136  0.000546\n",
      "7      MSSubClass    0.003998  0.000303\n",
      "4        FullBath    0.003225  0.000269\n",
      "19    ScreenPorch    0.001848  0.000221\n",
      "5    BedroomAbvGr    0.001672  0.000195\n",
      "12       HalfBath    0.001326  0.000108\n",
      "13   KitchenAbvGr    0.000618  0.000046\n",
      "18      3SsnPorch    0.000573  0.000241\n",
      "17  EnclosedPorch    0.000473  0.000047\n",
      "20       PoolArea    0.000264  0.000030\n"
     ]
    }
   ],
   "source": [
    "# Split into validation and training data\n",
    "train_X, val_X, train_y, val_y = train_test_split(X, y, random_state=1)\n",
    "\n",
    "# Define a random forest model\n",
    "rf_model = RandomForestRegressor(random_state=1)\n",
    "rf_model.fit(train_X, train_y)\n",
    "\n",
    "result = permutation_importance(rf_model, X, y, n_repeats=10, random_state=42, n_jobs=-1)\n",
    "importance_scores = pd.DataFrame({\n",
    "    'Feature': val_X.columns,\n",
    "    'Importance': result.importances_mean,\n",
    "    'Std': result.importances_std\n",
    "})\n",
    "importance_scores = importance_scores.sort_values(by='Importance', ascending=False)\n",
    "print(importance_scores)"
   ]
  },
  {
   "cell_type": "code",
   "execution_count": 5,
   "id": "48e6ff9d",
   "metadata": {
    "execution": {
     "iopub.execute_input": "2025-01-16T18:41:55.180379Z",
     "iopub.status.busy": "2025-01-16T18:41:55.179855Z",
     "iopub.status.idle": "2025-01-16T18:41:55.201960Z",
     "shell.execute_reply": "2025-01-16T18:41:55.200281Z"
    },
    "papermill": {
     "duration": 0.028968,
     "end_time": "2025-01-16T18:41:55.204097",
     "exception": false,
     "start_time": "2025-01-16T18:41:55.175129",
     "status": "completed"
    },
    "tags": []
   },
   "outputs": [
    {
     "name": "stdout",
     "output_type": "stream",
     "text": [
      "Validation MAE for Random Forest Model: 17,356\n"
     ]
    }
   ],
   "source": [
    "rf_val_predictions = rf_model.predict(val_X)\n",
    "rf_val_mae = mean_absolute_error(rf_val_predictions, val_y)\n",
    "\n",
    "print(\"Validation MAE for Random Forest Model: {:,.0f}\".format(rf_val_mae))"
   ]
  },
  {
   "cell_type": "markdown",
   "id": "a72f2609",
   "metadata": {
    "papermill": {
     "duration": 0.003442,
     "end_time": "2025-01-16T18:41:55.211432",
     "exception": false,
     "start_time": "2025-01-16T18:41:55.207990",
     "status": "completed"
    },
    "tags": []
   },
   "source": [
    "Validation MAE for Random Forest Model: 17,747\n",
    "Validation MAE for Random Forest Model: 18,140"
   ]
  },
  {
   "cell_type": "code",
   "execution_count": 6,
   "id": "848a327c",
   "metadata": {
    "execution": {
     "iopub.execute_input": "2025-01-16T18:41:55.220439Z",
     "iopub.status.busy": "2025-01-16T18:41:55.219986Z",
     "iopub.status.idle": "2025-01-16T18:41:55.481982Z",
     "shell.execute_reply": "2025-01-16T18:41:55.480415Z"
    },
    "papermill": {
     "duration": 0.269318,
     "end_time": "2025-01-16T18:41:55.484619",
     "exception": false,
     "start_time": "2025-01-16T18:41:55.215301",
     "status": "completed"
    },
    "tags": []
   },
   "outputs": [
    {
     "data": {
      "text/html": [
       "<style>#sk-container-id-1 {color: black;background-color: white;}#sk-container-id-1 pre{padding: 0;}#sk-container-id-1 div.sk-toggleable {background-color: white;}#sk-container-id-1 label.sk-toggleable__label {cursor: pointer;display: block;width: 100%;margin-bottom: 0;padding: 0.3em;box-sizing: border-box;text-align: center;}#sk-container-id-1 label.sk-toggleable__label-arrow:before {content: \"▸\";float: left;margin-right: 0.25em;color: #696969;}#sk-container-id-1 label.sk-toggleable__label-arrow:hover:before {color: black;}#sk-container-id-1 div.sk-estimator:hover label.sk-toggleable__label-arrow:before {color: black;}#sk-container-id-1 div.sk-toggleable__content {max-height: 0;max-width: 0;overflow: hidden;text-align: left;background-color: #f0f8ff;}#sk-container-id-1 div.sk-toggleable__content pre {margin: 0.2em;color: black;border-radius: 0.25em;background-color: #f0f8ff;}#sk-container-id-1 input.sk-toggleable__control:checked~div.sk-toggleable__content {max-height: 200px;max-width: 100%;overflow: auto;}#sk-container-id-1 input.sk-toggleable__control:checked~label.sk-toggleable__label-arrow:before {content: \"▾\";}#sk-container-id-1 div.sk-estimator input.sk-toggleable__control:checked~label.sk-toggleable__label {background-color: #d4ebff;}#sk-container-id-1 div.sk-label input.sk-toggleable__control:checked~label.sk-toggleable__label {background-color: #d4ebff;}#sk-container-id-1 input.sk-hidden--visually {border: 0;clip: rect(1px 1px 1px 1px);clip: rect(1px, 1px, 1px, 1px);height: 1px;margin: -1px;overflow: hidden;padding: 0;position: absolute;width: 1px;}#sk-container-id-1 div.sk-estimator {font-family: monospace;background-color: #f0f8ff;border: 1px dotted black;border-radius: 0.25em;box-sizing: border-box;margin-bottom: 0.5em;}#sk-container-id-1 div.sk-estimator:hover {background-color: #d4ebff;}#sk-container-id-1 div.sk-parallel-item::after {content: \"\";width: 100%;border-bottom: 1px solid gray;flex-grow: 1;}#sk-container-id-1 div.sk-label:hover label.sk-toggleable__label {background-color: #d4ebff;}#sk-container-id-1 div.sk-serial::before {content: \"\";position: absolute;border-left: 1px solid gray;box-sizing: border-box;top: 0;bottom: 0;left: 50%;z-index: 0;}#sk-container-id-1 div.sk-serial {display: flex;flex-direction: column;align-items: center;background-color: white;padding-right: 0.2em;padding-left: 0.2em;position: relative;}#sk-container-id-1 div.sk-item {position: relative;z-index: 1;}#sk-container-id-1 div.sk-parallel {display: flex;align-items: stretch;justify-content: center;background-color: white;position: relative;}#sk-container-id-1 div.sk-item::before, #sk-container-id-1 div.sk-parallel-item::before {content: \"\";position: absolute;border-left: 1px solid gray;box-sizing: border-box;top: 0;bottom: 0;left: 50%;z-index: -1;}#sk-container-id-1 div.sk-parallel-item {display: flex;flex-direction: column;z-index: 1;position: relative;background-color: white;}#sk-container-id-1 div.sk-parallel-item:first-child::after {align-self: flex-end;width: 50%;}#sk-container-id-1 div.sk-parallel-item:last-child::after {align-self: flex-start;width: 50%;}#sk-container-id-1 div.sk-parallel-item:only-child::after {width: 0;}#sk-container-id-1 div.sk-dashed-wrapped {border: 1px dashed gray;margin: 0 0.4em 0.5em 0.4em;box-sizing: border-box;padding-bottom: 0.4em;background-color: white;}#sk-container-id-1 div.sk-label label {font-family: monospace;font-weight: bold;display: inline-block;line-height: 1.2em;}#sk-container-id-1 div.sk-label-container {text-align: center;}#sk-container-id-1 div.sk-container {/* jupyter's `normalize.less` sets `[hidden] { display: none; }` but bootstrap.min.css set `[hidden] { display: none !important; }` so we also need the `!important` here to be able to override the default hidden behavior on the sphinx rendered scikit-learn.org. See: https://github.com/scikit-learn/scikit-learn/issues/21755 */display: inline-block !important;position: relative;}#sk-container-id-1 div.sk-text-repr-fallback {display: none;}</style><div id=\"sk-container-id-1\" class=\"sk-top-container\"><div class=\"sk-text-repr-fallback\"><pre>XGBRegressor(base_score=None, booster=None, callbacks=None,\n",
       "             colsample_bylevel=None, colsample_bynode=None,\n",
       "             colsample_bytree=None, device=None, early_stopping_rounds=None,\n",
       "             enable_categorical=False, eval_metric=None, feature_types=None,\n",
       "             gamma=None, grow_policy=None, importance_type=None,\n",
       "             interaction_constraints=None, learning_rate=None, max_bin=None,\n",
       "             max_cat_threshold=None, max_cat_to_onehot=None,\n",
       "             max_delta_step=None, max_depth=None, max_leaves=None,\n",
       "             min_child_weight=None, missing=nan, monotone_constraints=None,\n",
       "             multi_strategy=None, n_estimators=None, n_jobs=None,\n",
       "             num_parallel_tree=None, random_state=1, ...)</pre><b>In a Jupyter environment, please rerun this cell to show the HTML representation or trust the notebook. <br />On GitHub, the HTML representation is unable to render, please try loading this page with nbviewer.org.</b></div><div class=\"sk-container\" hidden><div class=\"sk-item\"><div class=\"sk-estimator sk-toggleable\"><input class=\"sk-toggleable__control sk-hidden--visually\" id=\"sk-estimator-id-1\" type=\"checkbox\" checked><label for=\"sk-estimator-id-1\" class=\"sk-toggleable__label sk-toggleable__label-arrow\">XGBRegressor</label><div class=\"sk-toggleable__content\"><pre>XGBRegressor(base_score=None, booster=None, callbacks=None,\n",
       "             colsample_bylevel=None, colsample_bynode=None,\n",
       "             colsample_bytree=None, device=None, early_stopping_rounds=None,\n",
       "             enable_categorical=False, eval_metric=None, feature_types=None,\n",
       "             gamma=None, grow_policy=None, importance_type=None,\n",
       "             interaction_constraints=None, learning_rate=None, max_bin=None,\n",
       "             max_cat_threshold=None, max_cat_to_onehot=None,\n",
       "             max_delta_step=None, max_depth=None, max_leaves=None,\n",
       "             min_child_weight=None, missing=nan, monotone_constraints=None,\n",
       "             multi_strategy=None, n_estimators=None, n_jobs=None,\n",
       "             num_parallel_tree=None, random_state=1, ...)</pre></div></div></div></div></div>"
      ],
      "text/plain": [
       "XGBRegressor(base_score=None, booster=None, callbacks=None,\n",
       "             colsample_bylevel=None, colsample_bynode=None,\n",
       "             colsample_bytree=None, device=None, early_stopping_rounds=None,\n",
       "             enable_categorical=False, eval_metric=None, feature_types=None,\n",
       "             gamma=None, grow_policy=None, importance_type=None,\n",
       "             interaction_constraints=None, learning_rate=None, max_bin=None,\n",
       "             max_cat_threshold=None, max_cat_to_onehot=None,\n",
       "             max_delta_step=None, max_depth=None, max_leaves=None,\n",
       "             min_child_weight=None, missing=nan, monotone_constraints=None,\n",
       "             multi_strategy=None, n_estimators=None, n_jobs=None,\n",
       "             num_parallel_tree=None, random_state=1, ...)"
      ]
     },
     "execution_count": 6,
     "metadata": {},
     "output_type": "execute_result"
    }
   ],
   "source": [
    "# To improve accuracy, create a new Random Forest model which you will train on all training data\n",
    "rf_model_on_full_data = XGBRegressor(random_state=1)\n",
    "\n",
    "# fit rf_model_on_full_data on all data from the training data\n",
    "rf_model_on_full_data.fit(X, y)"
   ]
  },
  {
   "cell_type": "code",
   "execution_count": 7,
   "id": "d453ab72",
   "metadata": {
    "execution": {
     "iopub.execute_input": "2025-01-16T18:41:55.494669Z",
     "iopub.status.busy": "2025-01-16T18:41:55.494294Z",
     "iopub.status.idle": "2025-01-16T18:41:55.542997Z",
     "shell.execute_reply": "2025-01-16T18:41:55.542089Z"
    },
    "papermill": {
     "duration": 0.056727,
     "end_time": "2025-01-16T18:41:55.545632",
     "exception": false,
     "start_time": "2025-01-16T18:41:55.488905",
     "status": "completed"
    },
    "tags": []
   },
   "outputs": [],
   "source": [
    "# path to file you will use for predictions\n",
    "test_data_path = '/kaggle/input/home-data-for-ml-course/test.csv'\n",
    "\n",
    "# read test data file using pandas\n",
    "test_data = pd.read_csv(test_data_path)\n",
    "\n",
    "# create test_X which comes from test_data but includes only the columns you used for prediction.\n",
    "# The list of columns is stored in a variable called features\n",
    "test_X = test_data[features]\n",
    "\n",
    "# make predictions which we will submit. \n",
    "test_preds = rf_model_on_full_data.predict(test_X)"
   ]
  },
  {
   "cell_type": "code",
   "execution_count": 8,
   "id": "b921c818",
   "metadata": {
    "execution": {
     "iopub.execute_input": "2025-01-16T18:41:55.557713Z",
     "iopub.status.busy": "2025-01-16T18:41:55.557275Z",
     "iopub.status.idle": "2025-01-16T18:41:55.570180Z",
     "shell.execute_reply": "2025-01-16T18:41:55.568716Z"
    },
    "papermill": {
     "duration": 0.022007,
     "end_time": "2025-01-16T18:41:55.572727",
     "exception": false,
     "start_time": "2025-01-16T18:41:55.550720",
     "status": "completed"
    },
    "tags": []
   },
   "outputs": [],
   "source": [
    "# Run the code to save predictions in the format used for competition scoring\n",
    "\n",
    "output = pd.DataFrame({'Id': test_data.Id,\n",
    "                       'SalePrice': test_preds})\n",
    "output.to_csv('submission.csv', index=False)"
   ]
  }
 ],
 "metadata": {
  "kaggle": {
   "accelerator": "none",
   "dataSources": [
    {
     "databundleVersionId": 111096,
     "sourceId": 10211,
     "sourceType": "competition"
    }
   ],
   "dockerImageVersionId": 30822,
   "isGpuEnabled": false,
   "isInternetEnabled": false,
   "language": "python",
   "sourceType": "notebook"
  },
  "kernelspec": {
   "display_name": "Python 3",
   "language": "python",
   "name": "python3"
  },
  "language_info": {
   "codemirror_mode": {
    "name": "ipython",
    "version": 3
   },
   "file_extension": ".py",
   "mimetype": "text/x-python",
   "name": "python",
   "nbconvert_exporter": "python",
   "pygments_lexer": "ipython3",
   "version": "3.10.12"
  },
  "papermill": {
   "default_parameters": {},
   "duration": 16.013821,
   "end_time": "2025-01-16T18:41:56.701117",
   "environment_variables": {},
   "exception": null,
   "input_path": "__notebook__.ipynb",
   "output_path": "__notebook__.ipynb",
   "parameters": {},
   "start_time": "2025-01-16T18:41:40.687296",
   "version": "2.6.0"
  }
 },
 "nbformat": 4,
 "nbformat_minor": 5
}
